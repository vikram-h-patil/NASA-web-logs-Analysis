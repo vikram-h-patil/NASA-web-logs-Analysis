{
 "cells": [
  {
   "cell_type": "markdown",
   "metadata": {},
   "source": [
    "# Analysis of NASA Apache Web Logs and feature recommendation for website optimization\n",
    "\n",
    "## Problem statement:\n",
    "#### Website optimization to predict traffic load; so that company can manage resources for handling peak traffic load\n",
    "\n",
    "#### Segment visitors according to how they engage with the website, map these segments to known customers in order to feed them into the right channels\n",
    "\n",
    "---\n",
    "*  Author - Vikram H Patil\n",
    "*  Date: 29/11/2019\n",
    "*  Environment: Python 3.6.1 and Jupyter notebook\n"
   ]
  },
  {
   "cell_type": "markdown",
   "metadata": {},
   "source": [
    "----\n",
    "## Table of contents\n",
    "\n",
    "### 1 - Data gathering and reading in Python\n",
    "### 2 - Data wrangling\n",
    "### 3 - EDA performed in Tableau\n",
    "### 4 - Creating new Features\n",
    "### 5 - Conclusison and recommendation\n",
    "\n"
   ]
  },
  {
   "cell_type": "markdown",
   "metadata": {},
   "source": [
    "----"
   ]
  },
  {
   "cell_type": "markdown",
   "metadata": {},
   "source": [
    "### 1- Data gathering and reading in Python"
   ]
  },
  {
   "cell_type": "code",
   "execution_count": 1,
   "metadata": {},
   "outputs": [],
   "source": [
    "# Importing all necessary Libraries\n",
    "\n",
    "import warnings\n",
    "from datetime import datetime, timedelta\n",
    "import swifter\n",
    "warnings.filterwarnings(\"ignore\")\n",
    "import pandas as pd\n",
    "import csv\n",
    "\n",
    "\n",
    "import socket\n",
    "from geolite2 import geolite2\n",
    "import numpy as np"
   ]
  },
  {
   "cell_type": "markdown",
   "metadata": {},
   "source": [
    "#### Reading the two .tsv files, and converting them into dataframe "
   ]
  },
  {
   "cell_type": "code",
   "execution_count": 132,
   "metadata": {},
   "outputs": [],
   "source": [
    "raw_tsv_files = glob.glob('*.tsv') # access all the files in the directory\n",
    "base_df = pd.DataFrame() # create a dataframe to store all the values\n",
    "\n",
    "\n",
    "for each_file in raw_tsv_files:\n",
    "    total_data=[]\n",
    "    with open(each_file, encoding='utf8', errors='ignore') as tsvfile:\n",
    "        reader = csv.reader(tsvfile,delimiter='\\t')\n",
    "        for row in reader:\n",
    "            total_data.append(row)\n",
    "        \n",
    "        df=pd.DataFrame(total_data)\n",
    "        ############\n",
    "        # Making the first row as dataframe headers\n",
    "        df.columns = df.iloc[0]\n",
    "        df = df[1:]\n",
    "        ############\n",
    "        base_df=pd.concat([base_df,df])"
   ]
  },
  {
   "cell_type": "code",
   "execution_count": 148,
   "metadata": {},
   "outputs": [],
   "source": [
    "# replacing all space with nulls\n",
    "\n",
    "base_df = base_df.replace(r'^\\s*$', np.nan, regex=True)\n"
   ]
  },
  {
   "cell_type": "code",
   "execution_count": 159,
   "metadata": {},
   "outputs": [],
   "source": [
    "main_df = base_df.copy()"
   ]
  },
  {
   "cell_type": "code",
   "execution_count": 160,
   "metadata": {},
   "outputs": [
    {
     "data": {
      "text/plain": [
       "0\n",
       "host               0\n",
       "logname            0\n",
       "time               0\n",
       "method             0\n",
       "url                0\n",
       "response           0\n",
       "bytes              0\n",
       "referer      3461595\n",
       "useragent    3461595\n",
       "dtype: int64"
      ]
     },
     "execution_count": 160,
     "metadata": {},
     "output_type": "execute_result"
    }
   ],
   "source": [
    "main_df.isnull().sum()"
   ]
  },
  {
   "cell_type": "markdown",
   "metadata": {},
   "source": [
    "#### From above, we can observe that collumns = referer and useragent are nulls, hence selecting only required columns"
   ]
  },
  {
   "cell_type": "code",
   "execution_count": 161,
   "metadata": {},
   "outputs": [],
   "source": [
    "main_df=main_df[['host', 'time', 'method', 'url', 'response', 'bytes']]\n",
    "main_df['response']=main_df.response.astype('int64')\n",
    "main_df['bytes']=main_df.bytes.astype('int64')"
   ]
  },
  {
   "cell_type": "code",
   "execution_count": 162,
   "metadata": {},
   "outputs": [
    {
     "data": {
      "text/plain": [
       "['GET', 'HEAD', 'POST']"
      ]
     },
     "execution_count": 162,
     "metadata": {},
     "output_type": "execute_result"
    }
   ],
   "source": [
    "main_df['method'].unique().tolist()"
   ]
  },
  {
   "cell_type": "code",
   "execution_count": 163,
   "metadata": {},
   "outputs": [
    {
     "data": {
      "text/plain": [
       "['200', '304', '302', '404', '403', '500', '501']"
      ]
     },
     "execution_count": 163,
     "metadata": {},
     "output_type": "execute_result"
    }
   ],
   "source": [
    "main_df['response'].unique().tolist()"
   ]
  },
  {
   "cell_type": "markdown",
   "metadata": {},
   "source": [
    "---- \n",
    "\n",
    "## 2- Data wrangling\n",
    "\n",
    "### 2.1) Filtering only valid URL pattern\n",
    "\n",
    "The columns URL contains invalid URL, filtering them from the main data"
   ]
  },
  {
   "cell_type": "code",
   "execution_count": 141,
   "metadata": {},
   "outputs": [
    {
     "name": "stdout",
     "output_type": "stream",
     "text": [
      "['/', '/`', '/.', '/./', '/*.*', '//', '/1', '/+', '://', '/*', '/\\x08\\x08\\x08']\n"
     ]
    }
   ],
   "source": [
    "print(main_df[~main_df.url.str.contains('[A-Za-z]')]['url'].unique().tolist())"
   ]
  },
  {
   "cell_type": "code",
   "execution_count": 142,
   "metadata": {},
   "outputs": [
    {
     "data": {
      "text/plain": [
       "(3398303, 7)"
      ]
     },
     "execution_count": 142,
     "metadata": {},
     "output_type": "execute_result"
    }
   ],
   "source": [
    "main_df = main_df[main_df.url.str.contains('[A-Za-z]')]\n",
    "main_df.shape"
   ]
  },
  {
   "cell_type": "markdown",
   "metadata": {},
   "source": [
    "### 2.2)  Converting seconds to date-time format\n",
    "\n",
    "Since the original data is given in secons, converting it to date time format through a custom function"
   ]
  },
  {
   "cell_type": "code",
   "execution_count": 18,
   "metadata": {},
   "outputs": [],
   "source": [
    "\"\"\"\n",
    "Function - convert_time()\n",
    "input - accept an integer\n",
    "output - date time format\n",
    "\"\"\"\n",
    "\n",
    "def convert_time(date_str):\n",
    "    date_str=int(date_str)\n",
    "    new_date_str = (datetime.utcfromtimestamp(date_str) -  timedelta(hours=5, minutes=0)).strftime('%Y-%m-%d %H:%M:%S')\n",
    "    return new_date_str"
   ]
  },
  {
   "cell_type": "code",
   "execution_count": 165,
   "metadata": {},
   "outputs": [
    {
     "data": {
      "application/vnd.jupyter.widget-view+json": {
       "model_id": "e5c6ac2ce7b34e98a4d089ebebcd7c8d",
       "version_major": 2,
       "version_minor": 0
      },
      "text/plain": [
       "HBox(children=(IntProgress(value=0, description='Pandas Apply', max=3461595, style=ProgressStyle(description_w…"
      ]
     },
     "metadata": {},
     "output_type": "display_data"
    },
    {
     "name": "stdout",
     "output_type": "stream",
     "text": [
      "\n"
     ]
    }
   ],
   "source": [
    "main_df['time']=main_df.swifter.apply(lambda x:convert_time(x['time']),axis=1)"
   ]
  },
  {
   "cell_type": "code",
   "execution_count": 16,
   "metadata": {},
   "outputs": [
    {
     "data": {
      "text/html": [
       "<div>\n",
       "<style scoped>\n",
       "    .dataframe tbody tr th:only-of-type {\n",
       "        vertical-align: middle;\n",
       "    }\n",
       "\n",
       "    .dataframe tbody tr th {\n",
       "        vertical-align: top;\n",
       "    }\n",
       "\n",
       "    .dataframe thead th {\n",
       "        text-align: right;\n",
       "    }\n",
       "</style>\n",
       "<table border=\"1\" class=\"dataframe\">\n",
       "  <thead>\n",
       "    <tr style=\"text-align: right;\">\n",
       "      <th></th>\n",
       "      <th>host</th>\n",
       "      <th>time</th>\n",
       "      <th>method</th>\n",
       "      <th>url</th>\n",
       "      <th>response</th>\n",
       "      <th>bytes</th>\n",
       "    </tr>\n",
       "  </thead>\n",
       "  <tbody>\n",
       "    <tr>\n",
       "      <th>1</th>\n",
       "      <td>199.72.81.55</td>\n",
       "      <td>1995-06-30 23:00:01</td>\n",
       "      <td>GET</td>\n",
       "      <td>/history/apollo/</td>\n",
       "      <td>200</td>\n",
       "      <td>6245</td>\n",
       "    </tr>\n",
       "    <tr>\n",
       "      <th>2</th>\n",
       "      <td>unicomp6.unicomp.net</td>\n",
       "      <td>1995-06-30 23:00:06</td>\n",
       "      <td>GET</td>\n",
       "      <td>/shuttle/countdown/</td>\n",
       "      <td>200</td>\n",
       "      <td>3985</td>\n",
       "    </tr>\n",
       "    <tr>\n",
       "      <th>3</th>\n",
       "      <td>199.120.110.21</td>\n",
       "      <td>1995-06-30 23:00:09</td>\n",
       "      <td>GET</td>\n",
       "      <td>/shuttle/missions/sts-73/mission-sts-73.html</td>\n",
       "      <td>200</td>\n",
       "      <td>4085</td>\n",
       "    </tr>\n",
       "    <tr>\n",
       "      <th>4</th>\n",
       "      <td>burger.letters.com</td>\n",
       "      <td>1995-06-30 23:00:11</td>\n",
       "      <td>GET</td>\n",
       "      <td>/shuttle/countdown/liftoff.html</td>\n",
       "      <td>304</td>\n",
       "      <td>0</td>\n",
       "    </tr>\n",
       "    <tr>\n",
       "      <th>5</th>\n",
       "      <td>199.120.110.21</td>\n",
       "      <td>1995-06-30 23:00:11</td>\n",
       "      <td>GET</td>\n",
       "      <td>/shuttle/missions/sts-73/sts-73-patch-small.gif</td>\n",
       "      <td>200</td>\n",
       "      <td>4179</td>\n",
       "    </tr>\n",
       "  </tbody>\n",
       "</table>\n",
       "</div>"
      ],
      "text/plain": [
       "0                  host                 time method  \\\n",
       "1          199.72.81.55  1995-06-30 23:00:01    GET   \n",
       "2  unicomp6.unicomp.net  1995-06-30 23:00:06    GET   \n",
       "3        199.120.110.21  1995-06-30 23:00:09    GET   \n",
       "4    burger.letters.com  1995-06-30 23:00:11    GET   \n",
       "5        199.120.110.21  1995-06-30 23:00:11    GET   \n",
       "\n",
       "0                                              url response bytes  \n",
       "1                                 /history/apollo/      200  6245  \n",
       "2                              /shuttle/countdown/      200  3985  \n",
       "3     /shuttle/missions/sts-73/mission-sts-73.html      200  4085  \n",
       "4                  /shuttle/countdown/liftoff.html      304     0  \n",
       "5  /shuttle/missions/sts-73/sts-73-patch-small.gif      200  4179  "
      ]
     },
     "execution_count": 16,
     "metadata": {},
     "output_type": "execute_result"
    }
   ],
   "source": [
    "main_df.head()"
   ]
  },
  {
   "cell_type": "markdown",
   "metadata": {},
   "source": [
    "### 2.3) From host_name/ IPaddress identifying the user's country\n"
   ]
  },
  {
   "cell_type": "code",
   "execution_count": 53,
   "metadata": {},
   "outputs": [],
   "source": [
    "\"\"\"\n",
    "Function - getip()\n",
    "input - accept hostname / IP address\n",
    "output - Country ISO code\n",
    "\n",
    "Logic:\n",
    "For successful result store the country ISOcode or if unsuccessful, store null\n",
    "\"\"\"\n",
    "\n",
    "\n",
    "def getip(domain_str):\n",
    "    try:\n",
    "        ip = socket.gethostbyname(domain_str.strip())\n",
    "        reader = geolite2.reader()      \n",
    "        output = reader.get(ip)\n",
    "        result = output['country']['iso_code']\n",
    "    except:\n",
    "        result = np.NAN\n",
    "    return result"
   ]
  },
  {
   "cell_type": "code",
   "execution_count": 5,
   "metadata": {},
   "outputs": [
    {
     "data": {
      "text/plain": [
       "137978"
      ]
     },
     "execution_count": 5,
     "metadata": {},
     "output_type": "execute_result"
    }
   ],
   "source": [
    "# Approach on how to implement above Function\n",
    "\n",
    "#Step-1: Since we are interested in the country information for unqiue visitors, filter them first\n",
    "\n",
    "unique_host_names_list = main_df['host'].unique().tolist()\n",
    "len(unique_host_names_list)"
   ]
  },
  {
   "cell_type": "code",
   "execution_count": null,
   "metadata": {},
   "outputs": [],
   "source": [
    "# Step-2: Create an empy dictionary to store each vistior and respective country\n",
    "\n",
    "country_dic =dict()\n",
    "\n",
    "for each_host in unique_host_names_list:\n",
    "    country_dic.update({each_host:getip(each_host)})\n",
    "    \n",
    "# Step-3: Now map the results back to main dataframe    \n",
    "main_df['country'] = main_df['host'].map(country_dic)"
   ]
  },
  {
   "cell_type": "code",
   "execution_count": 150,
   "metadata": {},
   "outputs": [
    {
     "data": {
      "text/plain": [
       "array(['US', nan, 'AU', 'CA', 'KR', 'JP', 'CL', 'DE', 'CN', 'NZ', 'BR',\n",
       "       'VG', 'RU', 'SE', 'IN', 'AT', 'GU', 'IT', 'JM', 'PL', 'MY', 'TW',\n",
       "       'BE', 'FI', 'HK', 'TH', 'NL', 'FR', 'CH', 'GB', 'ZA', 'IL', 'DK',\n",
       "       'NO', 'GR', 'MX', 'PT', 'ES', 'CR', 'AR', 'SG', 'SK', 'IS', 'LT',\n",
       "       'SI', 'HN', 'HU', 'ID', 'LU', 'TR', 'IE', 'LV', 'PR', 'VE', 'UA',\n",
       "       'KY', 'EC', 'IR', 'PE', 'UY', 'PH', 'CY', 'CO', 'HT', 'NG', 'AG',\n",
       "       'TZ', 'TT', 'CZ', 'AW', 'RO', 'EG', 'FJ', 'SA', 'BM', 'EE', 'BB',\n",
       "       'SO', 'CW', 'RE', 'BH', 'BY', 'AS', 'PY', 'HR', 'PK', 'KW', 'SY',\n",
       "       'AE', 'BG', 'AQ', 'MU', 'MZ', 'BO', 'PA', 'SC'], dtype=object)"
      ]
     },
     "execution_count": 150,
     "metadata": {},
     "output_type": "execute_result"
    }
   ],
   "source": [
    "main_df['country'].unique()"
   ]
  },
  {
   "cell_type": "markdown",
   "metadata": {},
   "source": [
    "#### In total, visitors represent 96 countires ; city and GeoPoint in further stages can be created similarly"
   ]
  },
  {
   "attachments": {},
   "cell_type": "markdown",
   "metadata": {},
   "source": [
    "![](images/countries.PNG)"
   ]
  },
  {
   "cell_type": "markdown",
   "metadata": {},
   "source": [
    "------\n",
    "\n",
    "## 3 - Data Analysis & EDA"
   ]
  },
  {
   "cell_type": "markdown",
   "metadata": {},
   "source": [
    "## HTTP Status Code Analysis"
   ]
  },
  {
   "cell_type": "code",
   "execution_count": 255,
   "metadata": {},
   "outputs": [],
   "source": [
    "http_df = main_df.groupby(['response'])[['host']].count().sort_values(by='host',ascending=False)\n",
    "http_df.reset_index(inplace=True)"
   ]
  },
  {
   "cell_type": "code",
   "execution_count": 256,
   "metadata": {},
   "outputs": [
    {
     "data": {
      "text/html": [
       "<div>\n",
       "<style scoped>\n",
       "    .dataframe tbody tr th:only-of-type {\n",
       "        vertical-align: middle;\n",
       "    }\n",
       "\n",
       "    .dataframe tbody tr th {\n",
       "        vertical-align: top;\n",
       "    }\n",
       "\n",
       "    .dataframe thead th {\n",
       "        text-align: right;\n",
       "    }\n",
       "</style>\n",
       "<table border=\"1\" class=\"dataframe\">\n",
       "  <thead>\n",
       "    <tr style=\"text-align: right;\">\n",
       "      <th></th>\n",
       "      <th>response</th>\n",
       "      <th>host</th>\n",
       "    </tr>\n",
       "  </thead>\n",
       "  <tbody>\n",
       "    <tr>\n",
       "      <th>0</th>\n",
       "      <td>200</td>\n",
       "      <td>3043539</td>\n",
       "    </tr>\n",
       "    <tr>\n",
       "      <th>1</th>\n",
       "      <td>304</td>\n",
       "      <td>260478</td>\n",
       "    </tr>\n",
       "    <tr>\n",
       "      <th>2</th>\n",
       "      <td>302</td>\n",
       "      <td>73064</td>\n",
       "    </tr>\n",
       "    <tr>\n",
       "      <th>3</th>\n",
       "      <td>404</td>\n",
       "      <td>20893</td>\n",
       "    </tr>\n",
       "    <tr>\n",
       "      <th>4</th>\n",
       "      <td>403</td>\n",
       "      <td>225</td>\n",
       "    </tr>\n",
       "    <tr>\n",
       "      <th>5</th>\n",
       "      <td>500</td>\n",
       "      <td>65</td>\n",
       "    </tr>\n",
       "    <tr>\n",
       "      <th>6</th>\n",
       "      <td>501</td>\n",
       "      <td>39</td>\n",
       "    </tr>\n",
       "  </tbody>\n",
       "</table>\n",
       "</div>"
      ],
      "text/plain": [
       "0  response     host\n",
       "0       200  3043539\n",
       "1       304   260478\n",
       "2       302    73064\n",
       "3       404    20893\n",
       "4       403      225\n",
       "5       500       65\n",
       "6       501       39"
      ]
     },
     "execution_count": 256,
     "metadata": {},
     "output_type": "execute_result"
    }
   ],
   "source": [
    "http_df"
   ]
  },
  {
   "attachments": {},
   "cell_type": "markdown",
   "metadata": {},
   "source": [
    "![](images/http.PNG)"
   ]
  },
  {
   "cell_type": "markdown",
   "metadata": {},
   "source": [
    "------\n",
    "\n",
    "## Top 10 requested URLs \n",
    "\n",
    "##### Count of number of times URLs have been requested (This information will help company to find out most popular pages and how frequently they are accessed)"
   ]
  },
  {
   "cell_type": "code",
   "execution_count": null,
   "metadata": {},
   "outputs": [],
   "source": [
    "freq_url = main_df.groupby(['url'])[['host']].count().sort_values(by='host',ascending=False).head(10)\n",
    "freq_url.reset_index(inplace=True)"
   ]
  },
  {
   "cell_type": "code",
   "execution_count": 265,
   "metadata": {},
   "outputs": [
    {
     "data": {
      "text/html": [
       "<div>\n",
       "<style scoped>\n",
       "    .dataframe tbody tr th:only-of-type {\n",
       "        vertical-align: middle;\n",
       "    }\n",
       "\n",
       "    .dataframe tbody tr th {\n",
       "        vertical-align: top;\n",
       "    }\n",
       "\n",
       "    .dataframe thead th {\n",
       "        text-align: right;\n",
       "    }\n",
       "</style>\n",
       "<table border=\"1\" class=\"dataframe\">\n",
       "  <thead>\n",
       "    <tr style=\"text-align: right;\">\n",
       "      <th></th>\n",
       "      <th>url</th>\n",
       "      <th>host</th>\n",
       "    </tr>\n",
       "  </thead>\n",
       "  <tbody>\n",
       "    <tr>\n",
       "      <th>0</th>\n",
       "      <td>/images/NASA-logosmall.gif</td>\n",
       "      <td>208798</td>\n",
       "    </tr>\n",
       "    <tr>\n",
       "      <th>1</th>\n",
       "      <td>/images/KSC-logosmall.gif</td>\n",
       "      <td>164976</td>\n",
       "    </tr>\n",
       "    <tr>\n",
       "      <th>2</th>\n",
       "      <td>/images/MOSAIC-logosmall.gif</td>\n",
       "      <td>127916</td>\n",
       "    </tr>\n",
       "    <tr>\n",
       "      <th>3</th>\n",
       "      <td>/images/USA-logosmall.gif</td>\n",
       "      <td>127082</td>\n",
       "    </tr>\n",
       "    <tr>\n",
       "      <th>4</th>\n",
       "      <td>/images/WORLD-logosmall.gif</td>\n",
       "      <td>125933</td>\n",
       "    </tr>\n",
       "    <tr>\n",
       "      <th>5</th>\n",
       "      <td>/images/ksclogo-medium.gif</td>\n",
       "      <td>121580</td>\n",
       "    </tr>\n",
       "    <tr>\n",
       "      <th>6</th>\n",
       "      <td>/ksc.html</td>\n",
       "      <td>83919</td>\n",
       "    </tr>\n",
       "    <tr>\n",
       "      <th>7</th>\n",
       "      <td>/images/launch-logo.gif</td>\n",
       "      <td>76009</td>\n",
       "    </tr>\n",
       "    <tr>\n",
       "      <th>8</th>\n",
       "      <td>/history/apollo/images/apollo-logo1.gif</td>\n",
       "      <td>68898</td>\n",
       "    </tr>\n",
       "    <tr>\n",
       "      <th>9</th>\n",
       "      <td>/shuttle/countdown/</td>\n",
       "      <td>64740</td>\n",
       "    </tr>\n",
       "  </tbody>\n",
       "</table>\n",
       "</div>"
      ],
      "text/plain": [
       "0                                      url    host\n",
       "0               /images/NASA-logosmall.gif  208798\n",
       "1                /images/KSC-logosmall.gif  164976\n",
       "2             /images/MOSAIC-logosmall.gif  127916\n",
       "3                /images/USA-logosmall.gif  127082\n",
       "4              /images/WORLD-logosmall.gif  125933\n",
       "5               /images/ksclogo-medium.gif  121580\n",
       "6                                /ksc.html   83919\n",
       "7                  /images/launch-logo.gif   76009\n",
       "8  /history/apollo/images/apollo-logo1.gif   68898\n",
       "9                      /shuttle/countdown/   64740"
      ]
     },
     "execution_count": 265,
     "metadata": {},
     "output_type": "execute_result"
    }
   ],
   "source": [
    "freq_url"
   ]
  },
  {
   "cell_type": "markdown",
   "metadata": {},
   "source": [
    "## Top Ten Error Endpoints\n",
    "\n",
    "\n",
    "##### This information is helpful for devops team to find out how many requests are failing so that appropriate action can be taken to fix the issue"
   ]
  },
  {
   "cell_type": "code",
   "execution_count": 270,
   "metadata": {},
   "outputs": [],
   "source": [
    "error_endpoints_freq_df = main_df[main_df['response']!= 200]\\\n",
    "                .groupby(['url'])[['host']].count().sort_values(by='host',ascending=False).head(10)\n",
    "\n",
    "\n",
    "error_endpoints_freq_df.reset_index(inplace=True)"
   ]
  },
  {
   "cell_type": "code",
   "execution_count": 271,
   "metadata": {},
   "outputs": [
    {
     "data": {
      "text/html": [
       "<div>\n",
       "<style scoped>\n",
       "    .dataframe tbody tr th:only-of-type {\n",
       "        vertical-align: middle;\n",
       "    }\n",
       "\n",
       "    .dataframe tbody tr th {\n",
       "        vertical-align: top;\n",
       "    }\n",
       "\n",
       "    .dataframe thead th {\n",
       "        text-align: right;\n",
       "    }\n",
       "</style>\n",
       "<table border=\"1\" class=\"dataframe\">\n",
       "  <thead>\n",
       "    <tr style=\"text-align: right;\">\n",
       "      <th></th>\n",
       "      <th>url</th>\n",
       "      <th>host</th>\n",
       "    </tr>\n",
       "  </thead>\n",
       "  <tbody>\n",
       "    <tr>\n",
       "      <th>0</th>\n",
       "      <td>/images/NASA-logosmall.gif</td>\n",
       "      <td>40090</td>\n",
       "    </tr>\n",
       "    <tr>\n",
       "      <th>1</th>\n",
       "      <td>/images/KSC-logosmall.gif</td>\n",
       "      <td>23763</td>\n",
       "    </tr>\n",
       "    <tr>\n",
       "      <th>2</th>\n",
       "      <td>/images/MOSAIC-logosmall.gif</td>\n",
       "      <td>15245</td>\n",
       "    </tr>\n",
       "    <tr>\n",
       "      <th>3</th>\n",
       "      <td>/images/USA-logosmall.gif</td>\n",
       "      <td>15142</td>\n",
       "    </tr>\n",
       "    <tr>\n",
       "      <th>4</th>\n",
       "      <td>/images/WORLD-logosmall.gif</td>\n",
       "      <td>14773</td>\n",
       "    </tr>\n",
       "    <tr>\n",
       "      <th>5</th>\n",
       "      <td>/images/ksclogo-medium.gif</td>\n",
       "      <td>13559</td>\n",
       "    </tr>\n",
       "    <tr>\n",
       "      <th>6</th>\n",
       "      <td>/images/launch-logo.gif</td>\n",
       "      <td>8806</td>\n",
       "    </tr>\n",
       "    <tr>\n",
       "      <th>7</th>\n",
       "      <td>/history/apollo/images/apollo-logo1.gif</td>\n",
       "      <td>7489</td>\n",
       "    </tr>\n",
       "    <tr>\n",
       "      <th>8</th>\n",
       "      <td>/images/ksclogosmall.gif</td>\n",
       "      <td>5669</td>\n",
       "    </tr>\n",
       "    <tr>\n",
       "      <th>9</th>\n",
       "      <td>/shuttle/countdown/</td>\n",
       "      <td>5559</td>\n",
       "    </tr>\n",
       "  </tbody>\n",
       "</table>\n",
       "</div>"
      ],
      "text/plain": [
       "0                                      url   host\n",
       "0               /images/NASA-logosmall.gif  40090\n",
       "1                /images/KSC-logosmall.gif  23763\n",
       "2             /images/MOSAIC-logosmall.gif  15245\n",
       "3                /images/USA-logosmall.gif  15142\n",
       "4              /images/WORLD-logosmall.gif  14773\n",
       "5               /images/ksclogo-medium.gif  13559\n",
       "6                  /images/launch-logo.gif   8806\n",
       "7  /history/apollo/images/apollo-logo1.gif   7489\n",
       "8                 /images/ksclogosmall.gif   5669\n",
       "9                      /shuttle/countdown/   5559"
      ]
     },
     "execution_count": 271,
     "metadata": {},
     "output_type": "execute_result"
    }
   ],
   "source": [
    "error_endpoints_freq_df"
   ]
  },
  {
   "cell_type": "markdown",
   "metadata": {},
   "source": [
    "## Date analysis"
   ]
  },
  {
   "cell_type": "code",
   "execution_count": 520,
   "metadata": {},
   "outputs": [],
   "source": [
    "main_df['dayofweek']=main_df['time'].dt.weekday+1\n",
    "main_df['day']=main_df['time'].dt.day\n",
    "main_df['month']=main_df['time'].dt.month\n",
    "main_df['date']=main_df['time'].dt.date\n",
    "main_df['log_time']=main_df['time'].dt.time"
   ]
  },
  {
   "attachments": {},
   "cell_type": "markdown",
   "metadata": {},
   "source": [
    "![](images/date.PNG)"
   ]
  },
  {
   "attachments": {},
   "cell_type": "markdown",
   "metadata": {},
   "source": [
    "There is peak traffic on 13th of July and the reason is space mission was lauched\n",
    "\n",
    "\n",
    "![](images/mission.PNG)"
   ]
  },
  {
   "cell_type": "markdown",
   "metadata": {},
   "source": [
    "\n",
    "---\n",
    "### Weekly connections made"
   ]
  },
  {
   "attachments": {},
   "cell_type": "markdown",
   "metadata": {},
   "source": [
    "![](images/week.PNG)"
   ]
  },
  {
   "cell_type": "markdown",
   "metadata": {},
   "source": [
    "##### From above we can observe that, weekedays the traffic is high but not on weekends"
   ]
  },
  {
   "cell_type": "markdown",
   "metadata": {},
   "source": [
    "_______\n",
    "\n",
    "## 4 - Creating new Features¶"
   ]
  },
  {
   "cell_type": "markdown",
   "metadata": {},
   "source": [
    "### 4-1) Encoding categorical 'response'. Since majority of successful transcations are present, we can assign 0 and rest other unsuccessful to 1"
   ]
  },
  {
   "cell_type": "code",
   "execution_count": 524,
   "metadata": {},
   "outputs": [],
   "source": [
    "response_encode = {200:0,304:1,302:1,404:1,403:1,500:1,501:1}"
   ]
  },
  {
   "cell_type": "code",
   "execution_count": 526,
   "metadata": {},
   "outputs": [],
   "source": [
    "main_df['response'] = main_df['response'].map(response_encode)"
   ]
  },
  {
   "cell_type": "markdown",
   "metadata": {},
   "source": [
    "### 4-2) Creating Country from hostname and IP address, based on requirement city and GeoCordinates can also be added"
   ]
  },
  {
   "cell_type": "markdown",
   "metadata": {},
   "source": [
    "##### This step was completed in step- 2.3"
   ]
  },
  {
   "cell_type": "markdown",
   "metadata": {},
   "source": [
    "### 4-3) From EDA, we observed that weekdays have high traffic and weekends have less, so we can encode these variables\n",
    "\n",
    "* weekdays as 0\n",
    "* weekends as 1"
   ]
  },
  {
   "cell_type": "code",
   "execution_count": 530,
   "metadata": {},
   "outputs": [],
   "source": [
    "weekday_encode = {1:0,2:0,3:0,4:0,5:0,6:1,7:1}"
   ]
  },
  {
   "cell_type": "code",
   "execution_count": 531,
   "metadata": {},
   "outputs": [],
   "source": [
    "main_df['is_weekday'] = main_df['dayofweek'].map(weekday_encode)\n",
    "main_df.drop('dayofweek', axis=1, inplace=True)"
   ]
  },
  {
   "cell_type": "markdown",
   "metadata": {},
   "source": [
    "### 4-4) Encoding HTTP method\n",
    "\n",
    "* GET as 0\n",
    "* POST as 1\n",
    "* HEAD as 2"
   ]
  },
  {
   "cell_type": "code",
   "execution_count": 534,
   "metadata": {},
   "outputs": [],
   "source": [
    "method_encode = {'GET':0,'POST':1,'HEAD':2}"
   ]
  },
  {
   "cell_type": "code",
   "execution_count": 535,
   "metadata": {},
   "outputs": [],
   "source": [
    "main_df['method'] = main_df['method'].map(method_encode)\n"
   ]
  },
  {
   "cell_type": "code",
   "execution_count": 536,
   "metadata": {},
   "outputs": [
    {
     "data": {
      "text/html": [
       "<div>\n",
       "<style scoped>\n",
       "    .dataframe tbody tr th:only-of-type {\n",
       "        vertical-align: middle;\n",
       "    }\n",
       "\n",
       "    .dataframe tbody tr th {\n",
       "        vertical-align: top;\n",
       "    }\n",
       "\n",
       "    .dataframe thead th {\n",
       "        text-align: right;\n",
       "    }\n",
       "</style>\n",
       "<table border=\"1\" class=\"dataframe\">\n",
       "  <thead>\n",
       "    <tr style=\"text-align: right;\">\n",
       "      <th></th>\n",
       "      <th>host</th>\n",
       "      <th>time</th>\n",
       "      <th>method</th>\n",
       "      <th>url</th>\n",
       "      <th>response</th>\n",
       "      <th>bytes</th>\n",
       "      <th>country</th>\n",
       "      <th>day</th>\n",
       "      <th>month</th>\n",
       "      <th>date</th>\n",
       "      <th>log_time</th>\n",
       "      <th>is_weekday</th>\n",
       "    </tr>\n",
       "  </thead>\n",
       "  <tbody>\n",
       "    <tr>\n",
       "      <th>0</th>\n",
       "      <td>199.72.81.55</td>\n",
       "      <td>1995-06-30 23:00:01</td>\n",
       "      <td>0</td>\n",
       "      <td>/history/apollo/</td>\n",
       "      <td>0</td>\n",
       "      <td>6245</td>\n",
       "      <td>US</td>\n",
       "      <td>30</td>\n",
       "      <td>6</td>\n",
       "      <td>1995-06-30</td>\n",
       "      <td>23:00:01</td>\n",
       "      <td>0</td>\n",
       "    </tr>\n",
       "    <tr>\n",
       "      <th>1</th>\n",
       "      <td>unicomp6.unicomp.net</td>\n",
       "      <td>1995-06-30 23:00:06</td>\n",
       "      <td>0</td>\n",
       "      <td>/shuttle/countdown/</td>\n",
       "      <td>0</td>\n",
       "      <td>3985</td>\n",
       "      <td>NaN</td>\n",
       "      <td>30</td>\n",
       "      <td>6</td>\n",
       "      <td>1995-06-30</td>\n",
       "      <td>23:00:06</td>\n",
       "      <td>0</td>\n",
       "    </tr>\n",
       "    <tr>\n",
       "      <th>2</th>\n",
       "      <td>199.120.110.21</td>\n",
       "      <td>1995-06-30 23:00:09</td>\n",
       "      <td>0</td>\n",
       "      <td>/shuttle/missions/sts-73/mission-sts-73.html</td>\n",
       "      <td>0</td>\n",
       "      <td>4085</td>\n",
       "      <td>US</td>\n",
       "      <td>30</td>\n",
       "      <td>6</td>\n",
       "      <td>1995-06-30</td>\n",
       "      <td>23:00:09</td>\n",
       "      <td>0</td>\n",
       "    </tr>\n",
       "    <tr>\n",
       "      <th>3</th>\n",
       "      <td>burger.letters.com</td>\n",
       "      <td>1995-06-30 23:00:11</td>\n",
       "      <td>0</td>\n",
       "      <td>/shuttle/countdown/liftoff.html</td>\n",
       "      <td>1</td>\n",
       "      <td>0</td>\n",
       "      <td>NaN</td>\n",
       "      <td>30</td>\n",
       "      <td>6</td>\n",
       "      <td>1995-06-30</td>\n",
       "      <td>23:00:11</td>\n",
       "      <td>0</td>\n",
       "    </tr>\n",
       "    <tr>\n",
       "      <th>4</th>\n",
       "      <td>199.120.110.21</td>\n",
       "      <td>1995-06-30 23:00:11</td>\n",
       "      <td>0</td>\n",
       "      <td>/shuttle/missions/sts-73/sts-73-patch-small.gif</td>\n",
       "      <td>0</td>\n",
       "      <td>4179</td>\n",
       "      <td>US</td>\n",
       "      <td>30</td>\n",
       "      <td>6</td>\n",
       "      <td>1995-06-30</td>\n",
       "      <td>23:00:11</td>\n",
       "      <td>0</td>\n",
       "    </tr>\n",
       "  </tbody>\n",
       "</table>\n",
       "</div>"
      ],
      "text/plain": [
       "0                  host                time  method  \\\n",
       "0          199.72.81.55 1995-06-30 23:00:01       0   \n",
       "1  unicomp6.unicomp.net 1995-06-30 23:00:06       0   \n",
       "2        199.120.110.21 1995-06-30 23:00:09       0   \n",
       "3    burger.letters.com 1995-06-30 23:00:11       0   \n",
       "4        199.120.110.21 1995-06-30 23:00:11       0   \n",
       "\n",
       "0                                              url  response  bytes country  \\\n",
       "0                                 /history/apollo/         0   6245      US   \n",
       "1                              /shuttle/countdown/         0   3985     NaN   \n",
       "2     /shuttle/missions/sts-73/mission-sts-73.html         0   4085      US   \n",
       "3                  /shuttle/countdown/liftoff.html         1      0     NaN   \n",
       "4  /shuttle/missions/sts-73/sts-73-patch-small.gif         0   4179      US   \n",
       "\n",
       "0  day  month        date  log_time  is_weekday  \n",
       "0   30      6  1995-06-30  23:00:01           0  \n",
       "1   30      6  1995-06-30  23:00:06           0  \n",
       "2   30      6  1995-06-30  23:00:09           0  \n",
       "3   30      6  1995-06-30  23:00:11           0  \n",
       "4   30      6  1995-06-30  23:00:11           0  "
      ]
     },
     "execution_count": 536,
     "metadata": {},
     "output_type": "execute_result"
    }
   ],
   "source": [
    "main_df.head()"
   ]
  },
  {
   "cell_type": "markdown",
   "metadata": {},
   "source": [
    "-----\n",
    "\n",
    "## 4-5) Visitor Analysis\n",
    "\n",
    "We will now examine the behavior of website visitors across time (sessions).\n",
    "\n",
    "create a new Group recipe with visitor_id(ip address) as the column to group by. \n",
    "\n",
    "Output: \n",
    "\n",
    "*  average time in seconds spent by a customer in the website\n",
    "*  average data used by same customer"
   ]
  },
  {
   "cell_type": "code",
   "execution_count": 566,
   "metadata": {},
   "outputs": [],
   "source": [
    "def find_avg_values(df):\n",
    "    \n",
    "    visitor_df = df[['host','time','url','date','country','bytes']]\n",
    "    grouped = visitor_df.groupby(['host','date'])\n",
    "    another_df = pd.DataFrame()\n",
    "\n",
    "    for x,y in grouped:\n",
    "        if y.shape[0] >1:\n",
    "            end_time = y['time'].max()\n",
    "            start_time =y['time'].min()\n",
    "            total_time = end_time - start_time\n",
    "            y['time_spent'] = total_time.total_seconds()\n",
    "            another_df=pd.concat([another_df,y])\n",
    "\n",
    "        else:\n",
    "            total_time = 30\n",
    "            y['time_spent'] = total_time\n",
    "            another_df=pd.concat([another_df,y])\n",
    "\n",
    "    another_df = another_df[['host','date','time_spent','country','bytes']]\n",
    "    another_df=another_df.drop_duplicates()\n",
    "\n",
    "\n",
    "    visitor_avg_df = pd.DataFrame()\n",
    "\n",
    "    second_group = another_df.groupby('host')\n",
    "\n",
    "    for x,y in second_group:\n",
    "        if y.shape[0]>1:\n",
    "            y['avg_seconds']=y['time_spent'].mean()\n",
    "            y['avg_data_used']=y['bytes'].mean()\n",
    "            visitor_avg_df=pd.concat([visitor_avg_df,y])\n",
    "\n",
    "        else:\n",
    "            y['avg_seconds']=y['time_spent']\n",
    "            y['avg_data_used']=y['bytes']\n",
    "            visitor_avg_df=pd.concat([visitor_avg_df,y])\n",
    "\n",
    "    visitor_avg_df = visitor_avg_df[['host','country','avg_seconds','avg_data_used']]\n",
    "    visitor_avg_df=visitor_avg_df.drop_duplicates()\n",
    "    visitor_avg_df = visitor_avg_df.sort_values(by=['avg_seconds','avg_data_used'], ascending=False)\n",
    "    visitor_avg_df.reset_index(inplace=True,drop=True)\n",
    "    \n",
    "    \n",
    "    return visitor_avg_df"
   ]
  },
  {
   "cell_type": "code",
   "execution_count": 568,
   "metadata": {},
   "outputs": [
    {
     "data": {
      "text/plain": [
       "(7752, 4)"
      ]
     },
     "execution_count": 568,
     "metadata": {},
     "output_type": "execute_result"
    }
   ],
   "source": [
    "sample_df=main_df.head(100000)\n",
    "\n",
    "sample_df = find_avg_values(sample_df)\n",
    "sample_df.shape"
   ]
  },
  {
   "cell_type": "code",
   "execution_count": 570,
   "metadata": {},
   "outputs": [
    {
     "data": {
      "text/html": [
       "<div>\n",
       "<style scoped>\n",
       "    .dataframe tbody tr th:only-of-type {\n",
       "        vertical-align: middle;\n",
       "    }\n",
       "\n",
       "    .dataframe tbody tr th {\n",
       "        vertical-align: top;\n",
       "    }\n",
       "\n",
       "    .dataframe thead th {\n",
       "        text-align: right;\n",
       "    }\n",
       "</style>\n",
       "<table border=\"1\" class=\"dataframe\">\n",
       "  <thead>\n",
       "    <tr style=\"text-align: right;\">\n",
       "      <th></th>\n",
       "      <th>host</th>\n",
       "      <th>country</th>\n",
       "      <th>avg_seconds</th>\n",
       "      <th>avg_data_used</th>\n",
       "    </tr>\n",
       "  </thead>\n",
       "  <tbody>\n",
       "    <tr>\n",
       "      <th>0</th>\n",
       "      <td>compware.phx.net99.net</td>\n",
       "      <td>NaN</td>\n",
       "      <td>85144.000000</td>\n",
       "      <td>19653.692308</td>\n",
       "    </tr>\n",
       "    <tr>\n",
       "      <th>1</th>\n",
       "      <td>guest.dtc.net</td>\n",
       "      <td>NaN</td>\n",
       "      <td>84875.000000</td>\n",
       "      <td>67890.818182</td>\n",
       "    </tr>\n",
       "    <tr>\n",
       "      <th>2</th>\n",
       "      <td>ccfews03.center.osaka-u.ac.jp</td>\n",
       "      <td>NaN</td>\n",
       "      <td>81644.000000</td>\n",
       "      <td>23084.782609</td>\n",
       "    </tr>\n",
       "    <tr>\n",
       "      <th>3</th>\n",
       "      <td>netcom7.netcom.com</td>\n",
       "      <td>NaN</td>\n",
       "      <td>80829.000000</td>\n",
       "      <td>9923.800000</td>\n",
       "    </tr>\n",
       "    <tr>\n",
       "      <th>4</th>\n",
       "      <td>www-b5.proxy.aol.com</td>\n",
       "      <td>NaN</td>\n",
       "      <td>80504.148649</td>\n",
       "      <td>59324.918919</td>\n",
       "    </tr>\n",
       "    <tr>\n",
       "      <th>5</th>\n",
       "      <td>www-b1.proxy.aol.com</td>\n",
       "      <td>NaN</td>\n",
       "      <td>79823.103448</td>\n",
       "      <td>43117.525862</td>\n",
       "    </tr>\n",
       "    <tr>\n",
       "      <th>6</th>\n",
       "      <td>www-d1.proxy.aol.com</td>\n",
       "      <td>NaN</td>\n",
       "      <td>78474.630631</td>\n",
       "      <td>31888.247748</td>\n",
       "    </tr>\n",
       "    <tr>\n",
       "      <th>7</th>\n",
       "      <td>ix-ftl1-17.ix.netcom.com</td>\n",
       "      <td>NaN</td>\n",
       "      <td>78324.000000</td>\n",
       "      <td>21730.937500</td>\n",
       "    </tr>\n",
       "    <tr>\n",
       "      <th>8</th>\n",
       "      <td>fig.leba.net</td>\n",
       "      <td>PL</td>\n",
       "      <td>78312.000000</td>\n",
       "      <td>50024.111111</td>\n",
       "    </tr>\n",
       "    <tr>\n",
       "      <th>9</th>\n",
       "      <td>202.33.84.251</td>\n",
       "      <td>JP</td>\n",
       "      <td>75929.000000</td>\n",
       "      <td>9133.200000</td>\n",
       "    </tr>\n",
       "  </tbody>\n",
       "</table>\n",
       "</div>"
      ],
      "text/plain": [
       "0                           host country   avg_seconds  avg_data_used\n",
       "0         compware.phx.net99.net     NaN  85144.000000   19653.692308\n",
       "1                  guest.dtc.net     NaN  84875.000000   67890.818182\n",
       "2  ccfews03.center.osaka-u.ac.jp     NaN  81644.000000   23084.782609\n",
       "3             netcom7.netcom.com     NaN  80829.000000    9923.800000\n",
       "4           www-b5.proxy.aol.com     NaN  80504.148649   59324.918919\n",
       "5           www-b1.proxy.aol.com     NaN  79823.103448   43117.525862\n",
       "6           www-d1.proxy.aol.com     NaN  78474.630631   31888.247748\n",
       "7       ix-ftl1-17.ix.netcom.com     NaN  78324.000000   21730.937500\n",
       "8                   fig.leba.net      PL  78312.000000   50024.111111\n",
       "9                  202.33.84.251      JP  75929.000000    9133.200000"
      ]
     },
     "execution_count": 570,
     "metadata": {},
     "output_type": "execute_result"
    }
   ],
   "source": [
    "sample_df.head(10)"
   ]
  },
  {
   "cell_type": "code",
   "execution_count": 571,
   "metadata": {},
   "outputs": [
    {
     "data": {
      "text/html": [
       "<div>\n",
       "<style scoped>\n",
       "    .dataframe tbody tr th:only-of-type {\n",
       "        vertical-align: middle;\n",
       "    }\n",
       "\n",
       "    .dataframe tbody tr th {\n",
       "        vertical-align: top;\n",
       "    }\n",
       "\n",
       "    .dataframe thead th {\n",
       "        text-align: right;\n",
       "    }\n",
       "</style>\n",
       "<table border=\"1\" class=\"dataframe\">\n",
       "  <thead>\n",
       "    <tr style=\"text-align: right;\">\n",
       "      <th></th>\n",
       "      <th>host</th>\n",
       "      <th>time</th>\n",
       "      <th>method</th>\n",
       "      <th>url</th>\n",
       "      <th>response</th>\n",
       "      <th>bytes</th>\n",
       "      <th>country</th>\n",
       "      <th>day</th>\n",
       "      <th>month</th>\n",
       "      <th>date</th>\n",
       "      <th>log_time</th>\n",
       "      <th>is_weekday</th>\n",
       "    </tr>\n",
       "  </thead>\n",
       "  <tbody>\n",
       "    <tr>\n",
       "      <th>0</th>\n",
       "      <td>199.72.81.55</td>\n",
       "      <td>1995-06-30 23:00:01</td>\n",
       "      <td>0</td>\n",
       "      <td>/history/apollo/</td>\n",
       "      <td>0</td>\n",
       "      <td>6245</td>\n",
       "      <td>US</td>\n",
       "      <td>30</td>\n",
       "      <td>6</td>\n",
       "      <td>1995-06-30</td>\n",
       "      <td>23:00:01</td>\n",
       "      <td>0</td>\n",
       "    </tr>\n",
       "    <tr>\n",
       "      <th>1</th>\n",
       "      <td>unicomp6.unicomp.net</td>\n",
       "      <td>1995-06-30 23:00:06</td>\n",
       "      <td>0</td>\n",
       "      <td>/shuttle/countdown/</td>\n",
       "      <td>0</td>\n",
       "      <td>3985</td>\n",
       "      <td>NaN</td>\n",
       "      <td>30</td>\n",
       "      <td>6</td>\n",
       "      <td>1995-06-30</td>\n",
       "      <td>23:00:06</td>\n",
       "      <td>0</td>\n",
       "    </tr>\n",
       "    <tr>\n",
       "      <th>2</th>\n",
       "      <td>199.120.110.21</td>\n",
       "      <td>1995-06-30 23:00:09</td>\n",
       "      <td>0</td>\n",
       "      <td>/shuttle/missions/sts-73/mission-sts-73.html</td>\n",
       "      <td>0</td>\n",
       "      <td>4085</td>\n",
       "      <td>US</td>\n",
       "      <td>30</td>\n",
       "      <td>6</td>\n",
       "      <td>1995-06-30</td>\n",
       "      <td>23:00:09</td>\n",
       "      <td>0</td>\n",
       "    </tr>\n",
       "    <tr>\n",
       "      <th>3</th>\n",
       "      <td>burger.letters.com</td>\n",
       "      <td>1995-06-30 23:00:11</td>\n",
       "      <td>0</td>\n",
       "      <td>/shuttle/countdown/liftoff.html</td>\n",
       "      <td>1</td>\n",
       "      <td>0</td>\n",
       "      <td>NaN</td>\n",
       "      <td>30</td>\n",
       "      <td>6</td>\n",
       "      <td>1995-06-30</td>\n",
       "      <td>23:00:11</td>\n",
       "      <td>0</td>\n",
       "    </tr>\n",
       "    <tr>\n",
       "      <th>4</th>\n",
       "      <td>199.120.110.21</td>\n",
       "      <td>1995-06-30 23:00:11</td>\n",
       "      <td>0</td>\n",
       "      <td>/shuttle/missions/sts-73/sts-73-patch-small.gif</td>\n",
       "      <td>0</td>\n",
       "      <td>4179</td>\n",
       "      <td>US</td>\n",
       "      <td>30</td>\n",
       "      <td>6</td>\n",
       "      <td>1995-06-30</td>\n",
       "      <td>23:00:11</td>\n",
       "      <td>0</td>\n",
       "    </tr>\n",
       "  </tbody>\n",
       "</table>\n",
       "</div>"
      ],
      "text/plain": [
       "0                  host                time  method  \\\n",
       "0          199.72.81.55 1995-06-30 23:00:01       0   \n",
       "1  unicomp6.unicomp.net 1995-06-30 23:00:06       0   \n",
       "2        199.120.110.21 1995-06-30 23:00:09       0   \n",
       "3    burger.letters.com 1995-06-30 23:00:11       0   \n",
       "4        199.120.110.21 1995-06-30 23:00:11       0   \n",
       "\n",
       "0                                              url  response  bytes country  \\\n",
       "0                                 /history/apollo/         0   6245      US   \n",
       "1                              /shuttle/countdown/         0   3985     NaN   \n",
       "2     /shuttle/missions/sts-73/mission-sts-73.html         0   4085      US   \n",
       "3                  /shuttle/countdown/liftoff.html         1      0     NaN   \n",
       "4  /shuttle/missions/sts-73/sts-73-patch-small.gif         0   4179      US   \n",
       "\n",
       "0  day  month        date  log_time  is_weekday  \n",
       "0   30      6  1995-06-30  23:00:01           0  \n",
       "1   30      6  1995-06-30  23:00:06           0  \n",
       "2   30      6  1995-06-30  23:00:09           0  \n",
       "3   30      6  1995-06-30  23:00:11           0  \n",
       "4   30      6  1995-06-30  23:00:11           0  "
      ]
     },
     "execution_count": 571,
     "metadata": {},
     "output_type": "execute_result"
    }
   ],
   "source": [
    "main_df.head()"
   ]
  },
  {
   "cell_type": "markdown",
   "metadata": {},
   "source": [
    "# 5- Conclusison and recommendation"
   ]
  },
  {
   "cell_type": "markdown",
   "metadata": {},
   "source": [
    "### Conclusion\n",
    "\n",
    "Based on above dataframes, \n",
    "\n",
    "* we can further cluster web visitors into groups (frequent visitors, non-frequent visitors) in order to predict new customer behavior and optimise the website\n",
    "\n",
    "* we can forecast how the web traffic can cause webpage breaks and overcome it\n",
    "\n",
    "\n",
    "### Recommendation:\n",
    "\n",
    "* The variables: Referrer and useragent can be recorded for analyse the trend on how visitors access the website\n",
    "* Based on host-name; user's country, city and Geolocation can be accessed for further improving the model\n"
   ]
  },
  {
   "cell_type": "code",
   "execution_count": null,
   "metadata": {},
   "outputs": [],
   "source": []
  }
 ],
 "metadata": {
  "kernelspec": {
   "display_name": "Python 3",
   "language": "python",
   "name": "python3"
  },
  "language_info": {
   "codemirror_mode": {
    "name": "ipython",
    "version": 3
   },
   "file_extension": ".py",
   "mimetype": "text/x-python",
   "name": "python",
   "nbconvert_exporter": "python",
   "pygments_lexer": "ipython3",
   "version": "3.7.1"
  }
 },
 "nbformat": 4,
 "nbformat_minor": 2
}
